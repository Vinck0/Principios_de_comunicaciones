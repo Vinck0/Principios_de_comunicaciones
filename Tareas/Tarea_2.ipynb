{
  "nbformat": 4,
  "nbformat_minor": 0,
  "metadata": {
    "colab": {
      "name": "p3 tarea 2.ipynb",
      "provenance": [],
      "collapsed_sections": []
    },
    "kernelspec": {
      "name": "python3",
      "display_name": "Python 3"
    },
    "language_info": {
      "name": "python"
    }
  },
  "cells": [
    {
      "cell_type": "code",
      "metadata": {
        "id": "IgDH_Vt_O-r2"
      },
      "source": [
        "import matplotlib.pyplot as plt\n",
        "import math"
      ],
      "execution_count": 1,
      "outputs": []
    },
    {
      "cell_type": "code",
      "metadata": {
        "id": "9vTzAdm4PSgD"
      },
      "source": [
        "#p3\n",
        "Bw= [200*10**3,5*10**6,20*10**6]\n",
        "SINRratio= [-5,0,3,6,9,15]\n",
        "SINR= [10**(-5/10),1,10**(3/10),10**(6/10),10**(9/10),10**(15/10)]\n",
        "C=[]\n",
        "for frec in Bw:\n",
        "    print(f'Frecuencia: {frec} Hz')\n",
        "    A=[]\n",
        "    for S in SINR:\n",
        "        c= frec*math.log((1+S),2)\n",
        "        print(f'C= {c/1000} Kbps')\n",
        "        A.append(c)\n",
        "    C.append(A)\n"
      ],
      "execution_count": null,
      "outputs": []
    },
    {
      "cell_type": "code",
      "metadata": {
        "id": "Ee4BWrnHWmkk"
      },
      "source": [
        "Y1=[]\n",
        "for c in C[0]:\n",
        "    Y1.append(c/(200*10**3))\n",
        "\n",
        "Y2=[]\n",
        "for c in C[1]:\n",
        "    Y2.append(c/(5*10**6))\n",
        "\n",
        "Y3=[]\n",
        "for c in C[2]:\n",
        "    Y3.append(c/(20*10**6))\n",
        "\n",
        "for el in Y1:\n",
        "    print(f\"{el} [bps/Hz]\")\n"
      ],
      "execution_count": null,
      "outputs": []
    },
    {
      "cell_type": "code",
      "metadata": {
        "id": "it-lQG2BPf5x"
      },
      "source": [
        "plt.plot(SINRratio, Y1, '-',color='b',label='Canal 200 KHz')\n",
        "plt.legend()\n",
        "plt.title('Curva eficencia espectral')\n",
        "plt.ylabel('C/B Ratio')\n",
        "plt.xlabel('S/N Ratio [dB]')\n",
        "plt.legend(loc=\"lower right\", title=\"Canal\")\n",
        "plt.show()"
      ],
      "execution_count": null,
      "outputs": []
    },
    {
      "cell_type": "code",
      "metadata": {
        "colab": {
          "base_uri": "https://localhost:8080/"
        },
        "id": "4O971ooyybb7",
        "outputId": "9dc26495-615f-455c-fc6f-46773f27b5fa"
      },
      "source": [
        "# p5\n",
        "P=[0.13, 0.08, 0.15, 0.05, 0.17, 0.11, 0.10, 0.08, 0.12, 0.01]\n",
        "B=[]\n",
        "for a in P:\n",
        "    B.append(math.log(a,2))\n",
        "sum=0\n",
        "for i in range(len(P)):\n",
        "    sum+= P[i]*B[i]\n",
        "print(f\"La entropía es {-sum} [bit/caracter]\")"
      ],
      "execution_count": 10,
      "outputs": [
        {
          "output_type": "stream",
          "text": [
            "La entropía es 3.142874561692801 [bit/caracter]\n"
          ],
          "name": "stdout"
        }
      ]
    },
    {
      "cell_type": "code",
      "metadata": {
        "colab": {
          "base_uri": "https://localhost:8080/"
        },
        "id": "7AuZRnqf4Z59",
        "outputId": "c7315b7d-e32b-42fc-a0ea-11e60d55d259"
      },
      "source": [
        "P=[0.13, 0.08, 0.15, 0.05, 0.17, 0.11, 0.10, 0.08, 0.12, 0.01]\n",
        "Letras = ['A','B','C','D','E','F','G','H','I','J']\n",
        "\n",
        "def autoinfo(string): ###calculo autoinformacion p5 b\n",
        "    autoinfo=0\n",
        "    pitatoria=1\n",
        "    for i in range(len(string)):\n",
        "        valor= Letras.index(string[i])\n",
        "        pitatoria*= P[valor]\n",
        "         \n",
        "    return -math.log(pitatoria,2)\n",
        "\n",
        "autoinfo('AIFGH') \n"
      ],
      "execution_count": 39,
      "outputs": [
        {
          "output_type": "execute_result",
          "data": {
            "text/plain": [
              "16.152519016486714"
            ]
          },
          "metadata": {
            "tags": []
          },
          "execution_count": 39
        }
      ]
    },
    {
      "cell_type": "code",
      "metadata": {
        "id": "17Y0zrAi5Ku0"
      },
      "source": [
        "#p6\n",
        "#H(alfabeto español)= -27*1/27*log_2(1/27)\n",
        "#a)\n",
        "-math.log(1/27,2)\n",
        "\n",
        "#b)\n",
        "alf_esp_probpor=[12.08,1.42,4.68,5.86,13.68,0.69,1.01,0.70,6.25,0.44,0.02,4.97,3.15,6.71,0.31,8.68,2.51,0.88,6.87,7.98,4.63,\n",
        "3.93,0.90,0.01,0.22,0.90,0.52]\n",
        "\n",
        "Alf=[]\n",
        "for i in range(len(alf_esp_probpor)):\n",
        "    Alf.append(alf_esp_probpor[i]/100)\n",
        "\n",
        "\n",
        "sum=0\n",
        "for i in range(len(alf_esp_probpor)):\n",
        "    sum+= -math.log(Alf[i],2)*Alf[i]\n",
        "sum\n",
        "\n",
        "#c)\n",
        "Alf_index=['A','B','C','D','E','F','G','H','I','J','K','L','M','N','Ñ','O','P','Q','R','S','T','U','V','W','X','Y','Z']\n",
        "def prob(string):\n",
        "    proba= []\n",
        "    for i in range(len(string)):\n",
        "        indice= Alf_index.index(string[i])  \n",
        "        proba.append(Alf[indice])       \n",
        "    return proba\n",
        "\n",
        "def autoinfo(string): ##se asumen simbolos estadisticamente independientes\n",
        "    pitatoria=1\n",
        "    proba= prob(string)\n",
        "    for i in range(len(string)):\n",
        "        pitatoria*= proba[i]\n",
        "    return -math.log(pitatoria,2)\n",
        "\n",
        "def entropia(string):\n",
        "    proba= prob(string)\n",
        "    sum=0\n",
        "    for i in range(len(string)):\n",
        "        sum+= -math.log(proba[i],2)*proba[i]\n",
        "    return sum\n"
      ],
      "execution_count": 57,
      "outputs": []
    },
    {
      "cell_type": "code",
      "metadata": {
        "colab": {
          "base_uri": "https://localhost:8080/"
        },
        "id": "q6HxgLryNdbu",
        "outputId": "ebf72df4-dbf5-429d-d13d-c39066816f0c"
      },
      "source": [
        "autoinfo('ESTUDIANTE')\n",
        "#autoinfo('UNIVERSIDAD')\n",
        "#autoinfo('INGENIERIA')\n",
        "#autoinfo('ELECTRICA')\n",
        "#autoinfo('INFORMACION')\n",
        "#autoinfo('TELECOMUNICACIONES')\n",
        "#entropia('ABCDEFGHIJKLMNÑOPQRSTUVWXYZ')\n"
      ],
      "execution_count": 68,
      "outputs": [
        {
          "output_type": "execute_result",
          "data": {
            "text/plain": [
              "4.035289498512195"
            ]
          },
          "metadata": {
            "tags": []
          },
          "execution_count": 68
        }
      ]
    }
  ]
}